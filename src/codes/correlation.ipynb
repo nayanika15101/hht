{
 "cells": [
  {
   "cell_type": "code",
   "execution_count": 2,
   "metadata": {},
   "outputs": [],
   "source": [
    "from PyEMD import EMD\n",
    "import pylab as plt\n",
    "\n",
    "\n",
    "from pyhht.visualization import plot_imfs\n",
    "import numpy as np\n",
    "import math\n",
    "#from pyhht.emd import EMD\n",
    "import matplotlib.pyplot as plt\n",
    "from tftb.generators import fmconst\n",
    "from scipy import angle, unwrap\n",
    "from scipy.signal import hilbert\n",
    "import pandas as pd\n",
    "from scipy import signal\n",
    "import statistics\n",
    "\n",
    "\n",
    "from scipy.stats import entropy\n",
    "from math import log, e\n",
    "import timeit"
   ]
  },
  {
   "cell_type": "code",
   "execution_count": 3,
   "metadata": {},
   "outputs": [],
   "source": [
    "df=pd.read_excel(\"C:/Users/Dell/Documents/sem8/Data Set/hacat.xlsx\")\n",
    "a1=df[\"t\"]\n",
    "list(a1)\n",
    "import numpy as np\n",
    "a1ar=np.asarray(a1)\n",
    "type(a1ar)\n",
    "#print(a1ar)\n",
    "a2=df[\"modes\"]\n",
    "list(a2)\n",
    "import numpy as np\n",
    "a2ar=np.asarray(a2)\n",
    "type(a2ar)\n",
    "#print(a2ar)\n",
    "x=a1ar+a2ar\n",
    "#plt.plot(a1ar,a2ar);"
   ]
  },
  {
   "cell_type": "code",
   "execution_count": 4,
   "metadata": {},
   "outputs": [],
   "source": [
    "df=pd.read_excel(\"C:/Users/Dell/Documents/sem8/Data Set/MCF7_100_S.xlsx\")\n",
    "a1=df[\"t\"]\n",
    "list(a1)\n",
    "import numpy as np\n",
    "a1ar=np.asarray(a1)\n",
    "type(a1ar)\n",
    "#print(a1ar)\n",
    "a3=df[\"modes\"]\n",
    "list(a3)\n",
    "import numpy as np\n",
    "a3ar=np.asarray(a3)\n",
    "type(a3ar)\n",
    "#print(a2ar)\n",
    "x=a1ar+a3ar\n",
    "#plt.plot(a1ar,a3ar);\n",
    "\n"
   ]
  },
  {
   "cell_type": "code",
   "execution_count": 5,
   "metadata": {},
   "outputs": [],
   "source": [
    "df=pd.read_excel(\"C:/Users/Dell/Documents/sem8/Data Set/231_s.xlsx\")\n",
    "a1=df[\"t\"]\n",
    "list(a1)\n",
    "import numpy as np\n",
    "a1ar=np.asarray(a1)\n",
    "type(a1ar)\n",
    "#print(a1ar)\n",
    "a4=df[\"modes\"]\n",
    "list(a4)\n",
    "import numpy as np\n",
    "a4ar=np.asarray(a4)\n",
    "type(a4ar)\n",
    "#print(a2ar)\n",
    "x=a1ar+a4ar\n",
    "#plt.plot(a1ar,a4ar);\n"
   ]
  },
  {
   "cell_type": "code",
   "execution_count": 6,
   "metadata": {},
   "outputs": [
    {
     "name": "stdout",
     "output_type": "stream",
     "text": [
      "Correlation between hacat and Mcf\n"
     ]
    },
    {
     "data": {
      "text/plain": [
       "array([[1.        , 0.44119276],\n",
       "       [0.44119276, 1.        ]])"
      ]
     },
     "execution_count": 6,
     "metadata": {},
     "output_type": "execute_result"
    }
   ],
   "source": [
    "print('Correlation between hacat and Mcf')\n",
    "np.corrcoef(a3ar[1:1300],a2ar[1:1300])\n"
   ]
  },
  {
   "cell_type": "code",
   "execution_count": 7,
   "metadata": {},
   "outputs": [
    {
     "name": "stdout",
     "output_type": "stream",
     "text": [
      "Correlation between hacat and 231_s\n"
     ]
    },
    {
     "data": {
      "text/plain": [
       "array([[1.        , 0.04598248],\n",
       "       [0.04598248, 1.        ]])"
      ]
     },
     "execution_count": 7,
     "metadata": {},
     "output_type": "execute_result"
    }
   ],
   "source": [
    "print('Correlation between hacat and 231_s')\n",
    "np.corrcoef(a4ar[1:1300],a2ar[1:1300])"
   ]
  },
  {
   "cell_type": "code",
   "execution_count": 8,
   "metadata": {},
   "outputs": [],
   "source": [
    "def entropy4(labels, base=None):\n",
    "  value,counts = np.unique(labels, return_counts=True)\n",
    "  norm_counts = counts / counts.sum()\n",
    "  base = e if base is None else base\n",
    "  return -(norm_counts * np.log(norm_counts)/np.log(base)).sum()\n"
   ]
  },
  {
   "cell_type": "code",
   "execution_count": 9,
   "metadata": {},
   "outputs": [
    {
     "name": "stdout",
     "output_type": "stream",
     "text": [
      "Entrophy for Hacat\n",
      "7.2531523126789565\n",
      "Entrophy for Mcf\n",
      "7.436665942245128\n",
      "Entrophy for 231_s\n",
      "7.167487330271948\n"
     ]
    }
   ],
   "source": [
    "print('Entrophy for Hacat')\n",
    "print(entropy4(a2ar))\n",
    "print('Entrophy for Mcf')\n",
    "print(entropy4(a3ar))\n",
    "print('Entrophy for 231_s')\n",
    "print(entropy4(a4ar))"
   ]
  },
  {
   "cell_type": "code",
   "execution_count": 10,
   "metadata": {},
   "outputs": [
    {
     "name": "stdout",
     "output_type": "stream",
     "text": [
      "Correlation between hacat and Mcf\n"
     ]
    },
    {
     "data": {
      "text/plain": [
       "array([[1.        , 0.69839578],\n",
       "       [0.69839578, 1.        ]])"
      ]
     },
     "execution_count": 10,
     "metadata": {},
     "output_type": "execute_result"
    }
   ],
   "source": [
    "print('Correlation between 231_s and Mcf')\n",
    "np.corrcoef(a3ar[1:1300],a4ar[1:1300])\n"
   ]
  },
  {
   "cell_type": "code",
   "execution_count": null,
   "metadata": {},
   "outputs": [],
   "source": []
  }
 ],
 "metadata": {
  "kernelspec": {
   "display_name": "Python 3",
   "language": "python",
   "name": "python3"
  },
  "language_info": {
   "codemirror_mode": {
    "name": "ipython",
    "version": 3
   },
   "file_extension": ".py",
   "mimetype": "text/x-python",
   "name": "python",
   "nbconvert_exporter": "python",
   "pygments_lexer": "ipython3",
   "version": "3.6.8"
  }
 },
 "nbformat": 4,
 "nbformat_minor": 2
}
